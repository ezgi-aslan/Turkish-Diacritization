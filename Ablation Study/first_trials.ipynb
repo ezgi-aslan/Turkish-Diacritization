{
 "cells": [
  {
   "cell_type": "code",
   "execution_count": null,
   "id": "8b20ce40",
   "metadata": {},
   "outputs": [],
   "source": [
    "import pandas as pd\n",
    "import numpy as np\n",
    "import tensorflow as tf\n",
    "from tensorflow.keras.layers import Input, Embedding, Bidirectional, LSTM, Dense, TimeDistributed\n",
    "from tensorflow.keras.models import Model\n",
    "from sklearn.model_selection import train_test_split\n",
    "from sklearn.preprocessing import LabelEncoder\n",
    "from sklearn.metrics import accuracy_score"
   ]
  },
  {
   "cell_type": "code",
   "execution_count": null,
   "id": "0d0a03d3",
   "metadata": {},
   "outputs": [],
   "source": [
    "# Load the dataset\n",
    "train_data = pd.read_csv(\"first_10k_rows.csv\")\n",
    "test_data = pd.read_csv(\"test.csv\")"
   ]
  },
  {
   "cell_type": "code",
   "execution_count": null,
   "id": "303d7048",
   "metadata": {},
   "outputs": [],
   "source": [
    "# Preprocess the dataset\n",
    "sentences = train_data[\"Sentence\"].values\n",
    "labels = [list(sentence) for sentence in sentences]  # Extract labels (diacritics) from sentences"
   ]
  },
  {
   "cell_type": "code",
   "execution_count": null,
   "id": "55714122",
   "metadata": {},
   "outputs": [],
   "source": [
    "# Tokenize sentences\n",
    "tokenizer = tf.keras.preprocessing.text.Tokenizer(char_level=True, num_words=5000)  # Limit vocabulary size\n",
    "tokenizer.fit_on_texts(sentences)\n",
    "X_seq = tokenizer.texts_to_sequences(sentences)"
   ]
  },
  {
   "cell_type": "code",
   "execution_count": null,
   "id": "13461aae",
   "metadata": {},
   "outputs": [],
   "source": [
    "# Create index_to_char dictionary\n",
    "index_to_char = {idx: char for char, idx in tokenizer.word_index.items() if idx != 0}\n",
    "\n",
    "# Pad sequences\n",
    "max_sequence_length = 100  # Limit sequence length\n",
    "X_padded = tf.keras.preprocessing.sequence.pad_sequences(X_seq, maxlen=max_sequence_length, padding='post')\n",
    "\n",
    "# Convert labels to one-hot encoding\n",
    "num_classes = len(tokenizer.word_index) + 1  # Adding 1 for padding token\n",
    "y_padded = tf.keras.preprocessing.sequence.pad_sequences(tokenizer.texts_to_sequences(labels), maxlen=max_sequence_length, padding='post')\n",
    "y_one_hot = tf.keras.utils.to_categorical(y_padded, num_classes=num_classes)"
   ]
  },
  {
   "cell_type": "code",
   "execution_count": null,
   "id": "a9875e4f",
   "metadata": {},
   "outputs": [],
   "source": [
    "# Split the dataset into train and validation sets\n",
    "X_train, X_val, y_train, y_val = train_test_split(X_padded, y_one_hot, test_size=0.2, random_state=42)\n",
    "\n",
    "# Define the model\n",
    "input_layer = Input(shape=(max_sequence_length,))\n",
    "embedding_layer = Embedding(input_dim=len(tokenizer.word_index)+1, output_dim=50, input_length=max_sequence_length)(input_layer)  # Reduce embedding dimension\n",
    "bi_lstm_layer = Bidirectional(LSTM(units=64, return_sequences=True))(embedding_layer)  # Reduce LSTM units\n",
    "output_layer = TimeDistributed(Dense(num_classes, activation='softmax'))(bi_lstm_layer)\n",
    "model = Model(inputs=input_layer, outputs=output_layer)\n",
    "\n",
    "# Compile the model\n",
    "model.compile(optimizer='adam', loss='categorical_crossentropy', metrics=['accuracy'])\n",
    "\n",
    "# Train the model with reduced batch size\n",
    "model.fit(X_train, y_train, validation_data=(X_val, y_val), epochs=5, batch_size=16)  # Reduce batch size"
   ]
  },
  {
   "cell_type": "code",
   "execution_count": null,
   "id": "7cee7100",
   "metadata": {},
   "outputs": [],
   "source": [
    "# Preprocess the test dataset\n",
    "test_sentences = test_data[\"Sentence\"].values\n",
    "\n",
    "# Tokenize and pad sequences for test data\n",
    "X_test_seq = tokenizer.texts_to_sequences(test_sentences)\n",
    "X_test_padded = tf.keras.preprocessing.sequence.pad_sequences(X_test_seq, maxlen=max_sequence_length, padding='post')\n",
    "\n",
    "# Make predictions on the test data\n",
    "predictions = model.predict(X_test_padded)"
   ]
  },
  {
   "cell_type": "code",
   "execution_count": null,
   "id": "093f1366",
   "metadata": {},
   "outputs": [],
   "source": [
    "# Convert predictions to labels (diacritics)\n",
    "predicted_labels = []\n",
    "for prediction in predictions:\n",
    "    predicted_label_seq = np.argmax(prediction, axis=-1)\n",
    "    predicted_label_seq = [index_to_char[idx] for idx in predicted_label_seq if idx != 0]  # Remove padding tokens\n",
    "    predicted_label = ''.join(predicted_label_seq)\n",
    "    predicted_labels.append(predicted_label)\n",
    "\n",
    "# Write predictions to a CSV file\n",
    "test_data[\"Predicted_Label\"] = predicted_labels\n",
    "test_data.to_csv(\"test_predictions.csv\", index=False)"
   ]
  }
 ],
 "metadata": {
  "kernelspec": {
   "display_name": "Python 3 (ipykernel)",
   "language": "python",
   "name": "python3"
  },
  "language_info": {
   "codemirror_mode": {
    "name": "ipython",
    "version": 3
   },
   "file_extension": ".py",
   "mimetype": "text/x-python",
   "name": "python",
   "nbconvert_exporter": "python",
   "pygments_lexer": "ipython3",
   "version": "3.9.12"
  }
 },
 "nbformat": 4,
 "nbformat_minor": 5
}
