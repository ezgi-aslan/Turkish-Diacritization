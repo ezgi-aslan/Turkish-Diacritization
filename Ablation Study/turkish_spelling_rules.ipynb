{
  "nbformat": 4,
  "nbformat_minor": 0,
  "metadata": {
    "colab": {
      "provenance": []
    },
    "kernelspec": {
      "name": "python3",
      "display_name": "Python 3"
    },
    "language_info": {
      "name": "python"
    }
  },
  "cells": [
    {
      "cell_type": "code",
      "execution_count": null,
      "metadata": {
        "colab": {
          "base_uri": "https://localhost:8080/"
        },
        "id": "8cW8PH3Ga0IA",
        "outputId": "ba25010f-dc6d-4037-8538-980c2e7779cd"
      },
      "outputs": [
        {
          "output_type": "stream",
          "name": "stdout",
          "text": [
            "Mounted at /content/drive\n"
          ]
        }
      ],
      "source": [
        "from google.colab import drive\n",
        "\n",
        "# Mount Google Drive\n",
        "drive.mount('/content/drive')"
      ]
    },
    {
      "cell_type": "code",
      "source": [
        "import csv\n",
        "from collections import Counter\n",
        "import re\n",
        "\n",
        "# Function to tokenize a sentence into words\n",
        "def tokenize(sentence):\n",
        "    # Use regex to split by non-alphanumeric characters and remove empty strings\n",
        "    return re.findall(r'\\b\\w+\\b', sentence.lower())\n",
        "\n",
        "# Path to CSV file\n",
        "csv_file = '/content/drive/MyDrive/max_max_88586.csv'\n",
        "\n",
        "# Dictionary to store word frequencies\n",
        "word_freq = Counter()\n",
        "\n",
        "# Dictionary to store word frequencies\n",
        "word_freq = Counter()\n",
        "\n",
        "# Read the CSV file and count word frequencies\n",
        "with open(csv_file, 'r', encoding='utf-8') as file:\n",
        "    csv_reader = csv.DictReader(file)\n",
        "    for row in csv_reader:\n",
        "        sentence = row['Predicted_Sentence']\n",
        "        # Split the sentence into words\n",
        "        words = sentence.split()\n",
        "        # Update the word frequencies\n",
        "        word_freq.update(words)\n",
        "\n",
        "# Read the CSV file again to find the least frequent word in each sentence\n",
        "with open(csv_file, 'r', encoding='utf-8') as file:\n",
        "    csv_reader = csv.DictReader(file)\n",
        "    least_frequent_sentences = []\n",
        "    for row in csv_reader:\n",
        "        sentence = row['Predicted_Sentence']\n",
        "        words = sentence.split()\n",
        "        # Find the least frequent word in the sentence\n",
        "        least_frequent_word = min(words, key=lambda word: word_freq[word])\n",
        "        least_frequent_sentences.append((sentence, least_frequent_word, word_freq[least_frequent_word]))\n",
        "\n",
        "# Sort the least frequent sentences based on the frequency of their least frequent word\n",
        "least_frequent_sentences.sort(key=lambda x: x[2])\n",
        "least= []\n",
        "print(\"The least frequent 100 sentences:\")\n",
        "for sentence, least_frequent_word, frequency in least_frequent_sentences[:100]:\n",
        "  least.append(least_frequent_word)\n",
        "print(least)\n"
      ],
      "metadata": {
        "colab": {
          "base_uri": "https://localhost:8080/"
        },
        "id": "m94rkthicLi2",
        "outputId": "05364d20-7222-4fda-dbd1-7a7f96bb5655"
      },
      "execution_count": null,
      "outputs": [
        {
          "output_type": "stream",
          "name": "stdout",
          "text": [
            "The least frequent 50 sentences:\n",
            "['ekonomi', 'girişi', 'güncelleme', 'mit', 'silahlı', 'savaştan', 'gününe', 'serbes:', 'muslüm', 'et:', 'lacıvertli', 'kultürünün', 'olmayabilir', 'okunan', 'gelişmeyi', 'açımıyor', 'orduspor', 'mor', 'eklenince', 'buralara', 'tarhan', 'çevaplayan', 'girnatacı', 'çağlayan', 'türünün', 'kisa', 'kasabanın', 'bakanlar', 'buyürmuş', 'tımes', 'antalya', 'kardeşlik', 'sahaya', 'standında', 'editorun', 'dokunuşla', 'standındaydı', 'tüna', 'işkender', 'hdk', 'sesle', 'işim', 'halıd', 'yayalaştırma', 'ihh', 'soyuz', 'zafer', 'grand', 'akdeniz', 'kostumu', 'ingiliz', 'oksijenden', 'sız', 'sitenizden', 'ilanları', 'kodü', 'olma', 'soyadınız:seçmiş', 'arabanın', 'gireceğiniz', 'kendisiyle', 'ozelleştirme', 'durumu', 'asağıda', 'gidin', 'eklenin', 'avukatlarıyla', 'üniversiteli', 'surecin', 'evden', 'hüsniye', 'ayazağa', 'çatışmalarda', 'aşklı', 'buyükanıt', 'kopeklerine', '36', 'surdürülebilir', 'siraladığı', 'meydan', 'ünal', 'insaatlarda', 'sonlandıran', 'bakanlık', 'düştüğünü', 'viraja', 'aralıkta', 'kit', '(thy)', 'fatıh', 'barça', 'yilbaşında', 'islak', 'topluluğu', 'rotayi', 'erken', 'düruydu', 'misır', 'pavey:', 'olağan', 'çezaevlerinde', 'eğemen', 'gandhi', 'işiğini', 'bulent', 'gazeteciye', 'patladı:', 'ruğby', 'beko', 'fener', 'futbolcuları', 'türünda', 'yüzyılın', 'koklu', 'kurul', 'havuzun', 'torunu', 'olu', '(hamaslı', 'oso:', 'pakıştan', 'bingur', 'araçı', 'fotoğrafcı', 'dünyaca', 'mariah', 'ortamını', 'gala', 'anna', 'birleşti', 'sute', 'mesleğinin', 'suredir', 'organ', 'midesinden', 'çinsellik', 'soğuklar', 'sirlar', 'gösterimdeki', 'ellerim', 'kapların', 'çalgı', 'gündüz', 'gezeğen', 'çalım', 'muezzin', 'peşinde', 'iklim', 'böğucu', 'usulu', 'lynch', 'william', 'yonuyle', 'heteroseksuel', 'üpton', 'giselerinde', 'seyirci', 'ovecek', 'başlayalım', 'virüsü', 'sonbahara', 'siyasetinin', 'keynes', 'diyoruz', 'nâsır', 'kuşurlara', 'yoksulluğun', 'burnumuzun', 'ekonomisinin', 'üzayan', 'elcinizin', 'seçilmiş', 'yasadığım', 'provokasyon', 'sorununu', 'grevleri', 'davranış', 'kitle', 'olamaz', 'çumhuriyetçi', 'aşamadan', 'amacım', 'hayatından', 'ozetle', 'olçüde', 'tecridin', 'onaylamadığını', 'hamamlarda', 'soylediğim', 'düyulan', 'merdivenin', 'meclis', 'çekincelerini', 'rapor', 'yine', 'sındırim', 'kademeli', 'sunusunda', 'çanının', 'üstü', 'adılık', '00', 'otopsisinde', 'arabaya', 'karakolda', 'viçtor', 'torunlar', 'dikilen', 'kameraların', 'franco', 'çalışmış', 'yarın', 'ayhan', 'ataması', 'hirpalanacak', 'oğretmeni', 'suna', 'pilottan', 'gözlemevi', 'üluslararası', 'mültecilerin', 'taşıma', 'persembe', 'kalbiyle', 'böğazici', 'ilçesi', 'kuruluştan', 'medeni', 'viçdanlar', 'fen', 'memnun', 'günlerinde', 'kurutmadan', 'kurutma', 'uzulmek', 'grevlerin', 'kazınmadıkça', 'çükurca', 'krizde', 'kasıntılar', 'oncelikle', 'tipleri', 'asılanan', '1960', 'sofranın', 'balığının', 'tencere', 'tarafta', 'roka', 'kuzgüncuk', 'yümuşakça', 'ingilizlerin', 'konumuz', 'oncesine', 'okuyucularım', 'açıkçası', 'insanlı', 'çümartesi', 'yeltan', 'kampanyaya', 'buyüdü', 'esenyurt', 'sesten', 'barıyerlerle', 'çicek', 'ili', 'hastalığa', 'sehzade', 'tersine', 'kubbelerini', 'kultürün', 'üçreti', 'japon', 'schlauçh', 'fonları', 'texas', 'alet', 'gelelim', 'oynadıkça', 'mac', 'holosko', 'ikişi', 'yenilginin', \"koc'a\", 'taraftar', 'miles', 'acık', 'okulları', 'laftır', 'masallarla', 'geçmeden', 'kopükluğa', 'kodla', 'çorekleri', 'nadir', 'restore', 'omrüm', 'iznik', 'mümcu', 'ertesi', 'çiple', 'güzellik', 'eyüp', 'arızalı', 'güçlerinin', 'akyazı', 'odülu', 'sark', 'kuzuloglu', 'muge', 'çüneyt', 'kutahyalı', 'shy', 'barılarını', 'gözlemeleri', 'nolu', 'sergisini', 'biridir,', 'filmde', 'omuzlarımı', 'doğanın', 'kisinin', 'zmanlar', 'soruya', 'susuyoruz', 'hikayesini', 'aileye', 'durum', 'donor', 'x', 'atına', 'takimın', 'barçelona', 'uzlaşma', 'hitabeti', 'sapanca', 'womist', 'orkun', 'topuz', 'silvan', 'ordunun', 'futbolumuz', 'erten', 'ümudumuz', 'kipiyle', 'çandar', 'çuneyt', 'yazmamıza', 'hasanoğlu', 'bakı', 'rastgele', 'ezgi', 'gediz', 'yazın', 'bininci', 'verner', 'türev', 'koray', 'kendinizi', 'merhum', 'orhan', 'avcılar', 'oğunc', 'beşe', 'yüzyıl', 'bikkinlık', 'türnusol', 'futbola', 'istikamet', 'fransa', 'firsatta', 'za0ten', 'olurlarsa', 'projesini', 'mermiler', 'soken', 'erorist', 'bunca', 'çehre', 'çemre', 'greviyse', '305', 'konutlarda', 'gerçekleştirdiği', 'uretim', 'havalımanları', 'seneye', 'ekonomi:', 'olumler', 'siradaki', 'yon', 'taha', 'utanması', 'sancıları', 'direniş', 'insanı', 'çanlar', 'kipirdatmiyor', 'ilkokulların', 'avukatlarla', 'mazlum', 'riskleri', 'istedi', 'hapishanelerde', 'bitiremeyen', 'kayapınar', 'yarıya', 'hido', 'liglerinde', 'barbaros', 'motokros', 'ruş', 'dakikaya', 'atılması', 'rusvet', 'hektarlık', 'bölge', 'arabayı', 'türkmen', 'kisi', 'sokaklara', 'izleyenler', 'müziğini', 'sevval', 'ksam', 'koza', 'roma', 'düşmanlarını', 'programını', 'psikoterapıde', 'başlama', 'kafanı', 'bulusu', 'ksi', 'vakum', 'erkekleri', 'yüzyıldan', 'sellik', 'anderson', 'çoklu', 'sehirlerinde', 'arkasındaki', 'varıp', 'ghobadı', 'dorduncusü', 'partının', 'parcalanan', 'suo', 'schiff', 'soke', 'sifir', '1920', 'masal', 'göğüslerini', 'zaytung', 'stünde', '2009', 'karadeniz', 'hassas', 'üzatan', 'sahi', 'ağıre', 'sikıldığımız', 'demokrasiyi', 'kaderini', 'tanımlanıyor', 'gözüm', 'halifax', 'santaj', 'hüküku', 'gezmiş', 'çezasını', 'ülkenin', 'sozün', 'temelinde', 'ahu', 'karnaval', 'sapla', 'haclı', 'mensur', 'ornekler', 'hatırlıyorum', 'oyununun', 'amirliği', 'nokta', 'beyinler', 'fislemesi', 'çıllıoglu', 'beceremiyor', 'sitesindeki', 'bilgilendirici', 'zenginlere', 'acılı', 'gerçek:', 'ihtirasları', 'sade', 'çevabınız', 'ülkesine', 'haliyle', 'taramayı', 'kurdanla', 'durumda', 'yayınları', 'yni', 'üyusturucu', 'partimizin', 'düruştçe', 'hayalındeki', 'ye:', 'karşımızda', 'iskencesinde', 'sakınlığınden', 'maçında', 'rduda', 'oynuyordu', 'düsünün', 'artı', 'yilı', \"allah'ı\", 'arıştokratlara', 'hür', 'numan', 'hastane', 'bayağı', 'istikbalını', 'dağıtıyorum', 'okunduklarında', 'ayrılık', 'demokratik', 'düvarlardan', 'türkoğlu', 'pazardan', 'çayırlar', 'müdahale', 'yazılı', 'yıllarca', 'nesrin', 'medyanin', 'kp', 'eşeleyip', 'otomobilin', 'salonu', 'ivedilikle', 'kahvaltıdan', 'pismesinden', 'fasildan', 'hanim', 'neo', 'üçüncüsü', 'gruplardan', 'asıyan', 'düşündünüz', 'tç', 'geçesindeki', 'tıpkı', 'lacıvertlilerin', 'keyfi', 'tekke', 'trafik', 'tüh', 'hesaplı', 'os', 'okurlarına', 'koridordan', 'aramasında', 'başkanlığını', 'donemlerde', 'new', 'orucuna', 'sapka', 'bombalıyoruz', 'işmi', 'suçlu', 'çumbusu', 'üludağ', 'çezaevi', 'ailelerini', 'madrid)', 'araçın', 'haskoy', 'çıtın', 'vurmaya', 'işrailli', 'işlamın', 'hismindan', 'mevlana', 'tahta', 'afaçan', 'bacadan', 'roketleri', 'moody', 'dersim', 'minibüste', 'bunlarla', 'tezic', 'uyardı', '35', 'imzaladığı', 'diriliyorduk', 'onya', 'konumu/makamı', 'böğota', 'çevap', 'bağırıldığını', 'imc', 'çenneti', 'protesto', 'yasam', 'zerre', 'çılek', 'yatırımı', 'edişon', 'beyninizi', 'isteyince', 'sakışana', 'halkım', 'tasması', 'dacıktan', 'oraları', 'osman', 'uluc', 'kirmızılılar', 'macında', 'sabun', 'üçüz', 'yilında', '1980', 'yoncalı', 'çhris', 'itap', 'toksinlerden', 'kullanan', 'işçi', 'kalamar', 'favori', 'modanın', 'tabak', 'üğdayları', 'rkadaşlar', 'aman', 'belgeselde', 'dollemeleri', 'muhteşem', 'yıkanan', 'güt', 'gözkapağıyla', 'bacağınız', 'seksi', 'yazgülü', 'bacaklarınız', 'nemli', 'parfümler', 'olayın', 'türker', 'sinuzitin', 'annedeki', 'mili', 'kuveyt', 'harbiye', 'enderdir', 'yenik', 'kola', 'supurüyor', 'metaller', 'gene', 'yollu', 'içmezdim', 'halamın', 'hasa', 'teşr', 'refik', 'slamda', 'hisini', 'yüvarlanıp', 'namiyla', 'lelacele', 'sifonu', 'asağıdan', 'bunlara', 'sozgelimi', 'kipik', 'çipil', 'torbayı', 'kuşluk', 'böğurtlen', 'demin', 'çeteler', 'muslük', 'tarafın', 'tel', 'kilçığı', 'kes', 'aif', 'kanlı', 'nkapani', 'çıngıl', 'soylentiler', 'geriye', 'havası', 'kalelerin', 'pisiriğin', 'dişarıda', 'şeferinde', 'atıce', 'girişimci', 'neonların', 'eseğini', 'ustalık', 'hocanın', 'papatyaların', 'sermayenin', 'hay', 'bördo', 'melekler', 'kafasına', 'işin', 'çopu', 'bortu', 'günes', 'varlık', 'kontlar', 'som', 'bitenler', 'oznelliğin', 'çapcanlı', 'barındıran', 'yalnız', 'çuk', 'bakıyorduk', 'düygu', 'suçu', 'gerçeğin', 'gereksinimler', 'endilerine', 'deşpot', 'topladığın', 'animadığı', 'sağılmaz', 'çiti', 'mezopotamya', 'sirasındaki', 'mahpeyker', 'üttefikler', 'ananizi', 'adını', 'akar', 'istiklalını', 'harmandan', 'elleğimiz', 'rhan', 'yasanani', 'bunalıp', 'uyuklayan', 'duyguyu', 'azıçık', 'demokratları', 'francıs', 'hasıs', 'tahsin', '1938', 'mahalle', 'sırtıyla', 'ilginçi', 'zirvelerinden', 'metreye', 'dgm', 'saab', 'apis', 'ustası', 'havaalanında', 'katolik', 'üretilirse', 'zabita', 'durul', 'anday', '0', '3.25i', 'sıstemleri', 'ltmisli', 'eşle', 'adece', 'isinin', 'ocuklarımız', 'çıkıp', 'atünda', 'kincı', 'emilerin', 'ünlar', 'kişkançlık', 'asayan', 'ilda', 'beklenen', 'rallisi', 'biyik', 'işichella', 'ozelliklerin', 'duzenli', 'arkının', 'tatürk’ün', 'toplulukları', 'âzik', 'yler', 'azla', \"rtvin'e\", 'r.', 'değişmenin', 'ltrasonda', 'merkezde', 'ireylerin', 'onosemantik', 'ünlarda', 'sevdiğim', 'mcpherson', 'rototipi', 'bakteriler', 'ünun', 'eslenme', 'üğdayların', 'enize', 'piserken', 'yütarken', 'bitkilerden', 'gemilerin', 'başkı', 'gziyla', 'klimdan', 'laaddin', 'nneannemin', 'nnemin', 'nnesine', 'rkandaki', 'rkasından', 'rkaya', 'rtık', 'silabilmek', 'silanış', 'silanma', 'sintı', 'saatte', 'asıverme', 'biçkici', 'slik', 'stirmak', 'silabilmedik', 'ağaçlardan', 'tın', 'yağını', 'zerilerin', 'zicik', 'zit', 'abannem', 'abası', 'ağdaki', 'ahçeyi', 'ahsedebildiklerin', 'sokusundan', 'aslıca', 'azi', 'çandan', 'es', 'günümüzde', 'parçası', 'harcı', 'kisiyi', 'meslekte', 'düydum', 'dondürülmüş', 'ize', 'izim', 'ordadan', 'ozacının', 'bağın', 'derginin', 'eğlenceli', 'yasatabiliriz', 'sıliş', 'geometrik', 'halilar', 'ağaçının', 'çiğerlerindeki', 'kanunlar', 'sirlanacak', 'kitabın', 'açındım', 'dolu', 'koşelik', 'sabunun', 'akımı', 'sayıyı', 'sarkıyı', 'saz', 'yaparsan', 'somurülmek', 'ürünun', 'üzluk', 'sıma', 'yemeğin', 'hayvanların', 'yoğurt', 'üğdaylar', 'ünları', 'gitme', 'vidayla', 'makineyle', 'ürundüğün', 'üsbutun', 'ütün', 'amları', 'amlık', 'bozoyuk', 'iyakla', 'iyaklamaktan', 'buyüklüğünde', 'ima', 'amasırları', 'arabalardan', 'ansız', 'iliştiri', 'eyizindeki', 'dokumak', 'iftlikteki', 'ocuğun', 'ocuk', 'ocuklar', 'ocukların', 'gezegendi', 'sip', 'algalar', 'elilleri', 'ereden', 'işardaki', 'ikişlerde', 'ondürülmüş', 'üdağımdaki', 'kmeklerin', 'çirpmaları', 'lindeki', 'lindekileri', 'saplatma', 'rkek', 'skı', 'skıden', 'stir', 'slemeye', 'tleri', 'vimizin', 'vine', 'vlerinin', 'işildamadan', 'işlamadan', 'işildayan', 'osur', 'osurdama', 'onlü', 'elinin', 'enc', 'iyiminde', 'omleğinin', 'orduğu', 'ozleri', 'apishanedeki', 'armanı', 'asadan', 'astalık', 'asıs', 'ava', 'avadaki', 'ayatın', 'ayattaki', 'ep', 'erkes', 'erkesin', 'indiştandaki', 'skota', 'anadoludaki', 'tül', 'çalışmanın', 'kardeşler', 'mparatorluğun', 'nancı', 'sim', 'slemek', 'slenmiş', 'talyan', 'andilin', 'anişım', 'aracaoğlan', 'avuk', 'arşılıklı', 'asınmadan', 'avanoz', 'azağımı', 'edi', 'edileri', 'eskilerimiz', 'anceri', 'irikların', 'irlardan', 'kulağına', 'imyasal']\n"
          ]
        }
      ]
    },
    {
      "cell_type": "code",
      "source": [
        "def write_sentences_to_csv(sentences, filename):\n",
        "    # Define the field names for the CSV\n",
        "    fieldnames = ['ID', 'Sentence']\n",
        "\n",
        "    # Open the CSV file in write mode\n",
        "    with open(filename, 'w', newline='', encoding='utf-8') as csvfile:\n",
        "        writer = csv.DictWriter(csvfile, fieldnames=fieldnames)\n",
        "\n",
        "        # Write the header row\n",
        "        writer.writeheader()\n",
        "\n",
        "        # Write each sentence with its ID\n",
        "        for idx, sentence in enumerate(sentences, start=1):\n",
        "            writer.writerow({'ID': idx, 'Sentence': sentence})\n",
        "\n",
        "# Output CSV filename\n",
        "csv_filename = '/content/drive/MyDrive/sentences.csv'\n",
        "\n",
        "# Write sentences to the CSV file\n",
        "write_sentences_to_csv(least, csv_filename)"
      ],
      "metadata": {
        "id": "Fyi9ic9odPTu"
      },
      "execution_count": null,
      "outputs": []
    },
    {
      "cell_type": "code",
      "source": [
        "import pandas as pd\n",
        "\n",
        "def deasciify_sentence(sentence):\n",
        "    asciify_map = {\n",
        "        'a': 'a', 'A': 'A', 'b': 'b', 'B': 'B', 'c': 'c', 'C': 'C', 'ç': 'c', 'Ç': 'C', 'd': 'd', 'D': 'D', 'e': 'e', 'E': 'E', 'f': 'f', 'F': 'F', 'g': 'g', 'G': 'G',\n",
        "        'ğ': 'g', 'Ğ': 'G', 'h': 'h', 'H': 'H', 'ı': 'i', 'I': 'I', 'i': 'i', 'İ': 'I', 'j': 'j', 'J': 'J', 'k': 'k', 'K': 'K', 'l': 'l', 'L': 'L', 'm': 'm', 'M': 'M',\n",
        "        'n': 'n', 'N': 'N', 'o': 'o', 'O': 'O', 'ö': 'o', 'Ö': 'O', 'p': 'p', 'P': 'P', 'r': 'r', 'R': 'R', 's': 's', 'S': 'S', 'ş': 's', 'Ş': 'S', 't': 't', 'T': 'T',\n",
        "        'u': 'u', 'U': 'U', 'ü': 'u', 'Ü': 'U', 'v': 'v', 'V': 'V', 'y': 'y', 'Y': 'Y', 'z': 'z', 'Z': 'Z'\n",
        "    }\n",
        "\n",
        "    deasciified_sentence = ''\n",
        "    for char in sentence:\n",
        "        if char in asciify_map:\n",
        "            deasciified_sentence += asciify_map[char]\n",
        "        else:\n",
        "            deasciified_sentence += char\n",
        "    return deasciified_sentence\n",
        "\n",
        "# Read the CSV file\n",
        "df = pd.read_csv('/content/drive/MyDrive/sent.csv')\n",
        "df.dropna(inplace=True)\n",
        "\n",
        "# Apply deasciification to the 'Sentence' column\n",
        "df['Sentence'] = df['Sentence'].apply(deasciify_sentence)\n",
        "\n",
        "# Save the DataFrame to a new CSV file\n",
        "df.to_csv('/content/drive/MyDrive/sent_deasciified.csv', index=False)\n"
      ],
      "metadata": {
        "id": "Rq-n2fV1ehoS"
      },
      "execution_count": null,
      "outputs": []
    },
    {
      "cell_type": "code",
      "source": [
        "def count_dotted_vowels_turkish(word):\n",
        "    # Define a set of vowels with diacritical marks in Turkish\n",
        "    dotted_vowels_turkish = {\"i\",\"ü\",\"ö\"}\n",
        "\n",
        "    # Count the number of dotted vowels in the word\n",
        "    count = sum(1 for letter in word if letter in dotted_vowels_turkish)\n",
        "\n",
        "    return count\n",
        "\n",
        "def notd(word):\n",
        "    # Define a set of vowels with diacritical marks in Turkish\n",
        "    notd = {\"a\",\"e\",\"ı\",\"o\",\"u\"}\n",
        "\n",
        "    # Count the number of dotted vowels in the word\n",
        "    countnot = sum(1 for letter in word if letter in dotted_vowels_turkish)\n",
        "\n",
        "    return countnot\n",
        "\n",
        "# Test the function\n",
        "word = \"Türkçiie\"\n",
        "sesli = count_dotted_vowels_turkish(word)\n",
        "sessiz = notd(word)\n",
        "oran = sesli / sessiz\n",
        "\n"
      ],
      "metadata": {
        "colab": {
          "base_uri": "https://localhost:8080/"
        },
        "id": "CdsJXjvkkAtH",
        "outputId": "bdd062d4-d943-4ef2-ec5e-a2e528fa3ad6"
      },
      "execution_count": null,
      "outputs": [
        {
          "output_type": "stream",
          "name": "stdout",
          "text": [
            "Number of dotted vowels in 'Türkçiie': 3\n"
          ]
        }
      ]
    },
    {
      "cell_type": "code",
      "source": [
        "def modify_word(word):\n",
        "    # Define sets of vowels with diacritical marks and without diacritical marks in Turkish\n",
        "    dotted_vowels_turkish = {\"ı\", \"o\", \"u\",}\n",
        "    undotted_vowels_turkish = {\"i\", \"ö\", \"ü\"}\n",
        "\n",
        "    # Count the number of dotted and non-dotted vowels in the word\n",
        "    dotted_count = sum(1 for letter in word if letter in dotted_vowels_turkish)\n",
        "    undotted_count = sum(1 for letter in word if letter in undotted_vowels_turkish)\n",
        "\n",
        "    # Calculate the ratio of dotted to non-dotted vowels\n",
        "    ratio = dotted_count / undotted_count\n",
        "\n",
        "    # Modify the word based on the ratio\n",
        "    if ratio > 0:\n",
        "        # Replace \"ı\" with \"i\", \"o\" with \"ö\", and \"u\" with \"ü\"\n",
        "        modified_word = word.replace(\"ı\", \"i\").replace(\"o\", \"ö\").replace(\"u\", \"ü\")\n",
        "    elif ratio < 0:\n",
        "        # Replace \"i\" with \"ı\", \"ö\" with \"o\", and \"ü\" with \"u\"\n",
        "        modified_word = word.replace(\"i\", \"ı\").replace(\"ö\", \"o\").replace(\"ü\", \"u\")\n",
        "    else:\n",
        "        modified_word = word  # No modification needed if the ratio is 0\n",
        "\n",
        "    return modified_word\n",
        "\n",
        "# Test the function\n",
        "word = \"Türkçiieu\"\n",
        "modified_word = modify_word(word)\n",
        "print(\"Original word:\", word)\n",
        "print(\"Modified word:\", modified_word)\n"
      ],
      "metadata": {
        "colab": {
          "base_uri": "https://localhost:8080/"
        },
        "id": "mnaR_64XmOJf",
        "outputId": "8d61032c-23a8-4c81-ba65-8f82c27295d2"
      },
      "execution_count": null,
      "outputs": [
        {
          "output_type": "stream",
          "name": "stdout",
          "text": [
            "Original word: Türkçiieu\n",
            "Modified word: Türkçiieü\n"
          ]
        }
      ]
    },
    {
      "cell_type": "code",
      "source": [
        "import pandas as pd\n",
        "\n",
        "def modify_word(word):\n",
        "    # Define sets of vowels with diacritical marks and without diacritical marks in Turkish\n",
        "    dotted_vowels_turkish = {\"ı\", \"o\", \"u\"}\n",
        "    undotted_vowels_turkish = {\"i\", \"ö\", \"ü\"}\n",
        "\n",
        "    # Count the number of dotted and non-dotted vowels in the word\n",
        "    dotted_count = sum(1 for letter in word if letter in dotted_vowels_turkish)\n",
        "    undotted_count = sum(1 for letter in word if letter in undotted_vowels_turkish)\n",
        "\n",
        "    # Calculate the ratio of dotted to non-dotted vowels\n",
        "    if undotted_count != 0:\n",
        "        ratio = dotted_count / undotted_count\n",
        "    else:\n",
        "        ratio = 0  # Set ratio to 0 if undotted_count is zero\n",
        "\n",
        "    # Modify the word based on the ratio\n",
        "    if ratio > 0:\n",
        "        # Replace \"ı\" with \"i\", \"o\" with \"ö\", and \"u\" with \"ü\"\n",
        "        modified_word = word.replace(\"ı\", \"i\").replace(\"o\", \"ö\").replace(\"u\", \"ü\")\n",
        "    elif ratio < 0:\n",
        "        # Replace \"i\" with \"ı\", \"ö\" with \"o\", and \"ü\" with \"u\"\n",
        "        modified_word = word.replace(\"i\", \"ı\").replace(\"ö\", \"o\").replace(\"ü\", \"u\")\n",
        "    else:\n",
        "        modified_word = word  # No modification needed if the ratio is 0\n",
        "\n",
        "    return modified_word\n",
        "\n",
        "\n",
        "# Read the CSV file\n",
        "df = pd.read_csv(\"/content/drive/MyDrive/max_max_88586.csv\")\n",
        "\n",
        "# Split each sentence into words, apply the modify_word function, and join the words back into a sentence\n",
        "# Split each sentence into words, apply the modify_word function, and join the words back into a sentence\n",
        "df['Modified_Sentence'] = df['Predicted_Sentence'].apply(lambda sentence: ' '.join(modify_word(word) if word else '' for word in sentence.split()))\n",
        "\n",
        "# Save the modified sentences to a new CSV file\n",
        "df.to_csv(\"/content/drive/MyDrive/modified_file.csv\", index=False)\n"
      ],
      "metadata": {
        "id": "5n6gLKURmnUf"
      },
      "execution_count": null,
      "outputs": []
    }
  ]
}