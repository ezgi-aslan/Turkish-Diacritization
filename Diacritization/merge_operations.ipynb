{
  "nbformat": 4,
  "nbformat_minor": 0,
  "metadata": {
    "colab": {
      "provenance": []
    },
    "kernelspec": {
      "name": "python3",
      "display_name": "Python 3"
    },
    "language_info": {
      "name": "python"
    }
  },
  "cells": [
    {
      "cell_type": "code",
      "source": [
        "from google.colab import drive\n",
        "\n",
        "# Mount Google Drive\n",
        "drive.mount('/content/drive')"
      ],
      "metadata": {
        "colab": {
          "base_uri": "https://localhost:8080/"
        },
        "id": "zyjG2ea2wGsA",
        "outputId": "5955b7b3-85af-4893-d275-2afe3ca635be"
      },
      "execution_count": 1,
      "outputs": [
        {
          "output_type": "stream",
          "name": "stdout",
          "text": [
            "Mounted at /content/drive\n"
          ]
        }
      ]
    },
    {
      "cell_type": "code",
      "execution_count": 2,
      "metadata": {
        "id": "DiMNo7b6wEio"
      },
      "outputs": [],
      "source": [
        "import pandas as pd\n",
        "\n",
        "# Read the two CSV files\n",
        "df1 = pd.read_csv('/content/drive/MyDrive/sent.csv')\n",
        "df2 = pd.read_csv('/content/drive/MyDrive/merged_train.csv')\n",
        "\n",
        "df2['ID'] += df1['ID'].max()\n",
        "\n",
        "# Concatenate the DataFrames along the rows\n",
        "merged_df = pd.concat([df1, df2], ignore_index=True)\n",
        "\n",
        "merged_df.to_csv('/content/drive/MyDrive/final_train.csv', index=False)\n"
      ]
    },
    {
      "cell_type": "code",
      "source": [
        "df3 = pd.read_csv('/content/drive/MyDrive/sent_deasciified.csv')\n",
        "df4 = pd.read_csv('/content/drive/MyDrive/merged_train_ascii.csv')\n",
        "\n",
        "df4['ID'] += df3['ID'].max()\n",
        "\n",
        "\n",
        "merged_df_1 = pd.concat([df3, df4], ignore_index=True)\n",
        "\n",
        "merged_df_1.to_csv('/content/drive/MyDrive/final_deascii.csv', index=False)\n"
      ],
      "metadata": {
        "id": "7LWfjA5lwFbv"
      },
      "execution_count": 3,
      "outputs": []
    }
  ]
}
